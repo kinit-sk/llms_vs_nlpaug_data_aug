{
 "cells": [
  {
   "cell_type": "code",
   "execution_count": 1,
   "id": "876ca8c8-5fa3-4aee-ba6b-63b5bf5366e8",
   "metadata": {},
   "outputs": [],
   "source": [
    "import pandas as pd\n",
    "import openai"
   ]
  },
  {
   "cell_type": "code",
   "execution_count": 2,
   "id": "e69aa457-fa87-45b8-ab77-e3a5600e396a",
   "metadata": {},
   "outputs": [],
   "source": [
    "df = pd.read_csv('news_multi_seed.csv')"
   ]
  },
  {
   "cell_type": "code",
   "execution_count": 3,
   "id": "d88940d7-d542-4703-8d9a-e359e965af91",
   "metadata": {},
   "outputs": [],
   "source": [
    "from openai import OpenAI\n",
    "\n",
    "client = OpenAI(api_key=\"\")"
   ]
  },
  {
   "cell_type": "code",
   "execution_count": 4,
   "id": "24a354b1-ee2e-4172-9820-8b3fc322232b",
   "metadata": {},
   "outputs": [],
   "source": [
    "def request_response_from_gpt(prompt):\n",
    "    response = client.chat.completions.create(\n",
    "        model=\"gpt-3.5-turbo-0125\",\n",
    "        #prompt=prompt,\n",
    "        messages=[\n",
    "            {\"role\": \"system\", \"content\": \"You are a crowdsourcing worker.\"},\n",
    "            {\"role\": \"user\", \"content\": prompt}],\n",
    "        n=1)\n",
    "    return response"
   ]
  },
  {
   "cell_type": "code",
   "execution_count": 5,
   "id": "594e5132-2419-48fb-a459-f709e57f9223",
   "metadata": {},
   "outputs": [],
   "source": [
    "def request_with_checks(prompt):\n",
    "    success = False\n",
    "    count = 0\n",
    "    while not success:\n",
    "        if count > 0:\n",
    "            print(f'Retrying with again. Current number of retries: {count}')\n",
    "        if count >= 10:\n",
    "            raise Exception('Too many attempts')\n",
    "        try:\n",
    "            response = request_response_from_gpt(prompt)\n",
    "            sucess = True\n",
    "            break\n",
    "        except openai.error.RateLimitError as e:\n",
    "            print(e)\n",
    "            time.sleep(10)\n",
    "            count += 1\n",
    "        except openai.error.APIConnectionError as e:\n",
    "            print(e)\n",
    "            time.sleep(5)\n",
    "            count += 1\n",
    "        except openai.error.APIError or openai.error.JSONDecodeError as e:\n",
    "            print(e)\n",
    "            time.sleep(5)\n",
    "            count += 1\n",
    "        except openai.error.Timeout as e:\n",
    "            print(e)\n",
    "            time.sleep(5)\n",
    "            count += 1\n",
    "        except openai.error.ServiceUnavailableError as e:\n",
    "            print(e)\n",
    "            time.sleep(5)\n",
    "            count += 1\n",
    "    return response"
   ]
  },
  {
   "cell_type": "code",
   "execution_count": 6,
   "id": "e131bbb0-4268-457b-a85c-545e5163e311",
   "metadata": {},
   "outputs": [],
   "source": [
    "def collect_samples(dct_final_prompts):\n",
    "    dct_responses = {}\n",
    "\n",
    "    for idx, key in enumerate(dct_final_prompts):\n",
    "        print(str(idx))\n",
    "        dct_responses[key] = []\n",
    "        for no, prompt in enumerate(dct_final_prompts[key]):\n",
    "            if no > 0 and no % 50 == 0:\n",
    "                print(no)\n",
    "            response = request_with_checks(prompt[0])\n",
    "            dct_responses[key].append((response, prompt[1]))\n",
    "            \n",
    "    return dct_responses"
   ]
  },
  {
   "cell_type": "code",
   "execution_count": 7,
   "id": "1abb6219-50db-4b7d-b02d-df53a71e31f5",
   "metadata": {},
   "outputs": [],
   "source": [
    "dct_phrases = df.groupby('label')['text'].apply(set).to_dict()"
   ]
  },
  {
   "cell_type": "code",
   "execution_count": 9,
   "id": "80b18b0a-843c-4d11-802a-9caed068e657",
   "metadata": {},
   "outputs": [],
   "source": [
    "default_prompt = 'Please provide 15 different changes of the Text by paraphrasing it. Output the full sentences. Output in format \"1. sentence 1, 2. sentence 2, ... , 15. sentence 15\". Text: \"{}\".'\n",
    "    \n",
    "dct_final_prompts = {}\n",
    "\n",
    "for key in dct_phrases:\n",
    "    dct_final_prompts[key] = []\n",
    "    for phrase in dct_phrases[key]:\n",
    "        dct_final_prompts[key].append((default_prompt.format(phrase), phrase))"
   ]
  },
  {
   "cell_type": "code",
   "execution_count": 10,
   "id": "4ed1a183-4c8e-4426-a2bf-b8020b08fa11",
   "metadata": {},
   "outputs": [
    {
     "name": "stdout",
     "output_type": "stream",
     "text": [
      "0\n",
      "50\n",
      "1\n",
      "50\n",
      "2\n",
      "50\n",
      "3\n",
      "50\n"
     ]
    }
   ],
   "source": [
    "dct_responses = collect_samples(dct_final_prompts)"
   ]
  },
  {
   "cell_type": "code",
   "execution_count": 11,
   "id": "54afeedd-7393-4e0c-bff9-d4cdad8a62b5",
   "metadata": {},
   "outputs": [],
   "source": [
    "import re\n",
    "import string\n",
    "\n",
    "def filter_responses(dct_responses):\n",
    "    dct_df = {'label': [], 'text': [], 'seed': []}\n",
    "    for key in dct_responses:\n",
    "        for responses in dct_responses[key]:\n",
    "            for response in responses[0].choices:\n",
    "                contents = response.message.content.split('\\n')\n",
    "                for content in contents:\n",
    "                    if len(content) == 0:\n",
    "                        continue\n",
    "                    if content[0].isnumeric():\n",
    "                        content = content[3:]\n",
    "                    else:\n",
    "                        continue\n",
    "                    dct_df['label'].append(key)\n",
    "                    dct_df['text'].append(content)\n",
    "                    dct_df['seed'].append(responses[1])\n",
    "                    \n",
    "    fb_0 = pd.DataFrame.from_dict(dct_df)\n",
    "                    \n",
    "    fb_0['text']=fb_0['text'].apply(lambda x: x.replace('\"',''))\n",
    "    \n",
    "    return fb_0"
   ]
  },
  {
   "cell_type": "code",
   "execution_count": 12,
   "id": "56306ae0-454f-473a-9808-3b8fdf0b99dd",
   "metadata": {},
   "outputs": [],
   "source": [
    "filter_responses(dct_responses).to_csv('news_gpt_para.csv', index=False)"
   ]
  },
  {
   "cell_type": "code",
   "execution_count": 13,
   "id": "92d017eb-f810-4f5a-9be3-714bdcaa8705",
   "metadata": {},
   "outputs": [],
   "source": [
    "default_prompt = 'Please provide 15 different changes of the Text by inserting words into the Text. Output the full sentences. Output in format \"1. sentence 1, 2. sentence 2, ... , 15. sentence 15\". Text: \"{}\".'\n",
    "    \n",
    "dct_final_prompts = {}\n",
    "\n",
    "for key in dct_phrases:\n",
    "    dct_final_prompts[key] = []\n",
    "    for phrase in dct_phrases[key]:\n",
    "        dct_final_prompts[key].append((default_prompt.format(phrase), phrase))"
   ]
  },
  {
   "cell_type": "code",
   "execution_count": 15,
   "id": "b6cb86dc-5218-4323-a461-d337589ff760",
   "metadata": {},
   "outputs": [
    {
     "name": "stdout",
     "output_type": "stream",
     "text": [
      "0\n",
      "50\n",
      "1\n",
      "50\n",
      "2\n",
      "50\n",
      "3\n",
      "50\n"
     ]
    }
   ],
   "source": [
    "dct_responses = collect_samples(dct_final_prompts)"
   ]
  },
  {
   "cell_type": "code",
   "execution_count": 16,
   "id": "9e474ff0-47ad-4b7f-b21a-c8901514bc1b",
   "metadata": {},
   "outputs": [],
   "source": [
    "filter_responses(dct_responses).to_csv('news_gpt_ins.csv', index=False)"
   ]
  },
  {
   "cell_type": "code",
   "execution_count": 17,
   "id": "088d3dbb-ee86-4fbc-80bc-69fe08105e0d",
   "metadata": {},
   "outputs": [],
   "source": [
    "default_prompt = 'Please provide 15 different changes of the Text by swapping words for their synonyms. Output the full sentences. Output in format \"1. sentence 1, 2. sentence 2, ... , 15. sentence 15\". Text: \"{}\".'\n",
    "\n",
    "dct_final_prompts = {}\n",
    "\n",
    "for key in dct_phrases:\n",
    "    dct_final_prompts[key] = []\n",
    "    for phrase in dct_phrases[key]:\n",
    "        dct_final_prompts[key].append((default_prompt.format(phrase), phrase))"
   ]
  },
  {
   "cell_type": "code",
   "execution_count": 18,
   "id": "dd26169a-06a9-433d-9820-bf05723551bf",
   "metadata": {},
   "outputs": [
    {
     "name": "stdout",
     "output_type": "stream",
     "text": [
      "0\n",
      "50\n",
      "1\n",
      "50\n",
      "2\n",
      "50\n",
      "3\n",
      "50\n"
     ]
    }
   ],
   "source": [
    "dct_responses = collect_samples(dct_final_prompts)"
   ]
  },
  {
   "cell_type": "code",
   "execution_count": 19,
   "id": "0a39efa7-f183-45fd-8163-68e0e82a590a",
   "metadata": {},
   "outputs": [],
   "source": [
    "filter_responses(dct_responses).to_csv('news_gpt_swap.csv', index=False)"
   ]
  }
 ],
 "metadata": {
  "kernelspec": {
   "display_name": "Python 3 (ipykernel)",
   "language": "python",
   "name": "python3"
  },
  "language_info": {
   "codemirror_mode": {
    "name": "ipython",
    "version": 3
   },
   "file_extension": ".py",
   "mimetype": "text/x-python",
   "name": "python",
   "nbconvert_exporter": "python",
   "pygments_lexer": "ipython3",
   "version": "3.10.0"
  }
 },
 "nbformat": 4,
 "nbformat_minor": 5
}
