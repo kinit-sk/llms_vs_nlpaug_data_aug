{
 "cells": [
  {
   "cell_type": "code",
   "execution_count": null,
   "id": "f493661e-ae24-419a-9d56-de8234da7dfb",
   "metadata": {},
   "outputs": [],
   "source": [
    "import nlpaug.augmenter.char as nac\n",
    "import nlpaug.augmenter.word as naw\n",
    "import nlpaug.augmenter.sentence as nas\n",
    "import nlpaug.flow as nafc\n",
    "\n",
    "from nlpaug.util import Action"
   ]
  },
  {
   "cell_type": "code",
   "execution_count": 3,
   "id": "241ebf65-8274-4dc4-bc74-74b6474e8774",
   "metadata": {},
   "outputs": [],
   "source": [
    "import pandas as pd"
   ]
  },
  {
   "cell_type": "code",
   "execution_count": null,
   "id": "79784117-b085-4e88-b297-b53726224a7b",
   "metadata": {},
   "outputs": [],
   "source": [
    "context = naw.ContextualWordEmbsAug(model_path='bert-large-uncased', action=\"substitute\")\n",
    "context_ins = naw.ContextualWordEmbsAug(model_path='bert-large-uncased', action=\"insert\")\n",
    "back = naw.BackTranslationAug(device='cuda')"
   ]
  },
  {
   "cell_type": "code",
   "execution_count": 14,
   "id": "4085114d-f059-47cd-8e53-367f3aeb95b1",
   "metadata": {},
   "outputs": [],
   "source": [
    "import os\n",
    "\n",
    "os.environ[\"TOKENIZERS_PARALLELISM\"] = 'false'"
   ]
  },
  {
   "cell_type": "code",
   "execution_count": null,
   "id": "813f3679-ab22-47f8-bc25-bd15a4b4dad2",
   "metadata": {},
   "outputs": [],
   "source": [
    "NO_SAMPLES = 15 # maximum number of samples that we collect\n",
    "for dataset in ['yelp']:\n",
    "    df = pd.read_csv(dataset+'/data/'+dataset+'_seeds_train.csv')\n",
    "    dct_context = {}\n",
    "    dct_context_ins = {}\n",
    "    dct_back = {}\n",
    "\n",
    "    back_text = []\n",
    "    cont_text = []\n",
    "    cont_ins_text = []\n",
    "\n",
    "    labels = []   \n",
    "\n",
    "    for idx, row in enumerate(df.iterrows()):   \n",
    "        text = row[1]['text']\n",
    "        label = row[1]['label']\n",
    "\n",
    "        labels.extend([label]*NO_SAMPLES)\n",
    "\n",
    "        w2v_text.extend(back.augment(text, n=NO_SAMPLES))\n",
    "        cont_text.extend(context.augment(text, n=NO_SAMPLES))\n",
    "        cont_ins_text.extend(context_ins.augment(text, n=NO_SAMPLES))\n",
    "\n",
    "    dct_back = {'text':w2v_text, 'label':labels}\n",
    "    dct_context = {'text':cont_text, 'label':labels}\n",
    "    dct_context_ins = {'text':cont_ins_text, 'label':labels}\n",
    "\n",
    "    pd.DataFrame.from_dict(dct_context).sample(frac=1, replace=False, random_state=1).to_csv(dataset+'/data/'+dataset+'_cont.csv', index=False)\n",
    "    pd.DataFrame.from_dict(dct_context_ins).sample(frac=1, replace=False, random_state=1).to_csv(dataset+'/data/'+dataset+'_cont_ins.csv', index=False)\n",
    "    pd.DataFrame.from_dict(dct_back).sample(frac=1, replace=False, random_state=1).to_csv(dataset+'/data/'+dataset+'_back.csv', index=False)"
   ]
  }
 ],
 "metadata": {
  "kernelspec": {
   "display_name": "Python 3 (ipykernel)",
   "language": "python",
   "name": "python3"
  },
  "language_info": {
   "codemirror_mode": {
    "name": "ipython",
    "version": 3
   },
   "file_extension": ".py",
   "mimetype": "text/x-python",
   "name": "python",
   "nbconvert_exporter": "python",
   "pygments_lexer": "ipython3",
   "version": "3.10.0"
  }
 },
 "nbformat": 4,
 "nbformat_minor": 5
}
